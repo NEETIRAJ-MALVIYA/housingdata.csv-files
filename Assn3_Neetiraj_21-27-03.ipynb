{
 "cells": [
  {
   "cell_type": "markdown",
   "id": "74d1d76c",
   "metadata": {},
   "source": [
    "# Name    :  Neetiraj\n",
    "# Reg no. : 21-27-03\n",
    "# AM624D\n",
    "# Data science "
   ]
  },
  {
   "cell_type": "markdown",
   "id": "9ee43a52",
   "metadata": {},
   "source": [
    "# 1. Read the housingdata.csv file into pandas DataFrame and display first six rows of the DataFrame"
   ]
  },
  {
   "cell_type": "code",
   "execution_count": null,
   "id": "94aff9d1",
   "metadata": {},
   "outputs": [],
   "source": [
    "import numpy as np\n",
    "import pandas as pd\n",
    "import re\n",
    "import warnings\n",
    "warnings.filterwarnings(\"ignore\")"
   ]
  },
  {
   "cell_type": "code",
   "execution_count": null,
   "id": "2d9192e0",
   "metadata": {},
   "outputs": [],
   "source": [
    "df = pd.read_csv('housingdata.csv')"
   ]
  },
  {
   "cell_type": "code",
   "execution_count": null,
   "id": "141561c8",
   "metadata": {},
   "outputs": [],
   "source": [
    "df"
   ]
  },
  {
   "cell_type": "code",
   "execution_count": null,
   "id": "d3fbebc2",
   "metadata": {},
   "outputs": [],
   "source": [
    "df.head(6)"
   ]
  },
  {
   "cell_type": "markdown",
   "id": "01296d6b",
   "metadata": {},
   "source": [
    "# 2. Display the column names and row index in separate cells."
   ]
  },
  {
   "cell_type": "code",
   "execution_count": null,
   "id": "d489d358",
   "metadata": {},
   "outputs": [],
   "source": [
    "print(f'column : {df.columns}')"
   ]
  },
  {
   "cell_type": "code",
   "execution_count": null,
   "id": "af353432",
   "metadata": {},
   "outputs": [],
   "source": [
    "df.index"
   ]
  },
  {
   "cell_type": "markdown",
   "id": "927ec96a",
   "metadata": {},
   "source": [
    "# 3. a) How many numbers of “STATE” exist in the dataset. Hint: use shape b) How many unique states exist in the dataset\n"
   ]
  },
  {
   "cell_type": "code",
   "execution_count": null,
   "id": "9f13233f",
   "metadata": {},
   "outputs": [],
   "source": [
    "print(f'No. of STATE in dataset : {df.shape[0]}')"
   ]
  },
  {
   "cell_type": "code",
   "execution_count": null,
   "id": "cf110d14",
   "metadata": {},
   "outputs": [],
   "source": [
    "X = df.STATE.unique()\n",
    "print(f'Unique States: {X}')\n",
    "print(f'No. of unique states: {len(X)}')"
   ]
  },
  {
   "cell_type": "markdown",
   "id": "884947a2",
   "metadata": {},
   "source": [
    "# 4. Retrieve the list of all NaN/Null/Empty cells in the form of Boolean list\n"
   ]
  },
  {
   "cell_type": "code",
   "execution_count": null,
   "id": "9995b8b0",
   "metadata": {},
   "outputs": [],
   "source": [
    "\n",
    "[df.iloc[i,j] for i,j in zip(*np.where(pd.isnull(df)))]"
   ]
  },
  {
   "cell_type": "code",
   "execution_count": null,
   "id": "50746732",
   "metadata": {},
   "outputs": [],
   "source": [
    "X = np.array(np.where(pd.isnull(df)))\n",
    "X"
   ]
  },
  {
   "cell_type": "code",
   "execution_count": null,
   "id": "a8306a54",
   "metadata": {},
   "outputs": [],
   "source": [
    "df.iloc[2,3]"
   ]
  },
  {
   "cell_type": "code",
   "execution_count": null,
   "id": "6c11c618",
   "metadata": {},
   "outputs": [],
   "source": [
    "y = df.isnull()\n",
    "y"
   ]
  },
  {
   "cell_type": "code",
   "execution_count": null,
   "id": "6a932daf",
   "metadata": {},
   "outputs": [],
   "source": [
    "y = y.values\n",
    "y.tolist\n",
    "y"
   ]
  },
  {
   "cell_type": "markdown",
   "id": "215a2905",
   "metadata": {},
   "source": [
    "# 5. Drop all rows with N/A,NA,na values in Num_Bedrooms"
   ]
  },
  {
   "cell_type": "code",
   "execution_count": null,
   "id": "76ad6378",
   "metadata": {},
   "outputs": [],
   "source": [
    "df['NUM_BEDROOMS'] = df['NUM_BEDROOMS'].replace('na', np.NaN)\n",
    "df\n",
    "\n",
    "# Re Module"
   ]
  },
  {
   "cell_type": "code",
   "execution_count": null,
   "id": "1eb2c5a2",
   "metadata": {},
   "outputs": [],
   "source": [
    "df = df[df['NUM_BEDROOMS'].notna()]\n",
    "df"
   ]
  },
  {
   "cell_type": "markdown",
   "id": "cb203326",
   "metadata": {},
   "source": [
    "#  6. Replace the NaN and String entries in Num_Bath with previous entry "
   ]
  },
  {
   "cell_type": "code",
   "execution_count": null,
   "id": "43342d8d",
   "metadata": {},
   "outputs": [],
   "source": [
    "df['NUM_BATH'] = df['NUM_BATH'].str.replace('^[a-z]+', '' , regex = True, flags = re.I)\n",
    "df['NUM_BATH'] = df['NUM_BATH'].replace('', np.NaN)\n",
    "df['NUM_BATH'] = df['NUM_BATH'].fillna(method= 'ffill')\n",
    "\n",
    "df['NUM_BATH'] = df['NUM_BATH'].fillna(method='ffill')\n",
    "df['NUM_BATH'] = df['NUM_BATH'].replace(df['NUM_BATH'].str, method= 'ffill')\n",
    "\n",
    "df"
   ]
  },
  {
   "cell_type": "markdown",
   "id": "15866c58",
   "metadata": {},
   "source": [
    "# 7. Replace the empty values in “SQ_FT” with the mean of the all entries"
   ]
  },
  {
   "cell_type": "code",
   "execution_count": null,
   "id": "196af5b9",
   "metadata": {},
   "outputs": [],
   "source": [
    "df['SQ_FT'] = df['SQ_FT'].replace('--',np.NaN)\n",
    "df['SQ_FT'] = df['SQ_FT'].astype(float)\n",
    "df['SQ_FT'].fillna(int(df['SQ_FT'].mean()), inplace=True)\n",
    "df"
   ]
  },
  {
   "cell_type": "markdown",
   "id": "7f11e153",
   "metadata": {},
   "source": [
    "# 8. What is the sum of SQ_FT of all entries in the dataset"
   ]
  },
  {
   "cell_type": "code",
   "execution_count": null,
   "id": "0783ab8a",
   "metadata": {},
   "outputs": [],
   "source": [
    "df['SQ_FT'].sum()"
   ]
  },
  {
   "cell_type": "markdown",
   "id": "1dd20675",
   "metadata": {},
   "source": [
    "# 9. Add a new column “NUM_STORE” and with all the values as 1 for all rows"
   ]
  },
  {
   "cell_type": "code",
   "execution_count": null,
   "id": "423ce804",
   "metadata": {},
   "outputs": [],
   "source": [
    "df['NUM_STORE']=1"
   ]
  },
  {
   "cell_type": "code",
   "execution_count": null,
   "id": "55191019",
   "metadata": {},
   "outputs": [],
   "source": [
    "df"
   ]
  },
  {
   "cell_type": "markdown",
   "id": "43c46a87",
   "metadata": {},
   "source": [
    "# 10. Create a DataFrame containing all entries of TN state only"
   ]
  },
  {
   "cell_type": "code",
   "execution_count": null,
   "id": "2b97c8a3",
   "metadata": {},
   "outputs": [],
   "source": [
    "df[df['STATE']=='TN']"
   ]
  },
  {
   "cell_type": "markdown",
   "id": "30189b95",
   "metadata": {},
   "source": [
    "# 11. Create a DataFrame having SQ_FT area greater than 1000 and display the DataFrame"
   ]
  },
  {
   "cell_type": "code",
   "execution_count": null,
   "id": "c9dc2f42",
   "metadata": {},
   "outputs": [],
   "source": [
    "df.loc[df['SQ_FT'] > 1000]"
   ]
  },
  {
   "cell_type": "markdown",
   "id": "3f4ec525",
   "metadata": {},
   "source": [
    "# 12. Create a DataFrame having only first Three columns and First Three rows"
   ]
  },
  {
   "cell_type": "code",
   "execution_count": null,
   "id": "3bc80c98",
   "metadata": {},
   "outputs": [],
   "source": [
    "df[['PID','STATE','PRICE']].head(3)"
   ]
  },
  {
   "cell_type": "markdown",
   "id": "8f178120",
   "metadata": {},
   "source": [
    "# 13. Display the state having highest average price per square foot of housing area. Hint: Average of (TotalPrice/Sq_Ft)"
   ]
  },
  {
   "cell_type": "code",
   "execution_count": null,
   "id": "810ba45a",
   "metadata": {},
   "outputs": [],
   "source": [
    "per = df\n",
    "per"
   ]
  },
  {
   "cell_type": "code",
   "execution_count": null,
   "id": "3784eb67",
   "metadata": {},
   "outputs": [],
   "source": [
    "per = df.groupby('STATE').mean()\n",
    "per"
   ]
  },
  {
   "cell_type": "code",
   "execution_count": null,
   "id": "eebfba50",
   "metadata": {},
   "outputs": [],
   "source": [
    "per['Average'] = per['PRICE']/per['SQ_FT']\n",
    "per"
   ]
  },
  {
   "cell_type": "code",
   "execution_count": null,
   "id": "0f80bb5a",
   "metadata": {},
   "outputs": [],
   "source": [
    "per['Average'].idxmax()"
   ]
  }
 ],
 "metadata": {
  "kernelspec": {
   "display_name": "Python 3 (ipykernel)",
   "language": "python",
   "name": "python3"
  },
  "language_info": {
   "codemirror_mode": {
    "name": "ipython",
    "version": 3
   },
   "file_extension": ".py",
   "mimetype": "text/x-python",
   "name": "python",
   "nbconvert_exporter": "python",
   "pygments_lexer": "ipython3",
   "version": "3.9.7"
  }
 },
 "nbformat": 4,
 "nbformat_minor": 5
}
